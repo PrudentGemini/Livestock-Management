{
 "cells": [
  {
   "cell_type": "markdown",
   "metadata": {},
   "source": [
    "MACHINE LEARNING BASED ON LIVESTOCK HEALTH MONITORING AND MANAGEMENT SYSTEM\n",
    "\n",
    "** This project is based on monitoring livestocks as well as managing them using datasets that contains lots of livestock diseases which is used to train our machine learning model **\n",
    "This helps to make predictions and detection of early livestock diseases before they become difficult to deal with\n",
    "\n",
    "Author: Ahmed Aisha\n",
    "\n",
    "Dept: Computer Science\n",
    "\n",
    "Matric: 20/47cs/01303"
   ]
  },
  {
   "cell_type": "markdown",
   "metadata": {},
   "source": []
  },
  {
   "cell_type": "code",
   "execution_count": 7,
   "metadata": {},
   "outputs": [],
   "source": [
    "# importing all the necessary modules and packages that is used for building the model\n",
    "from sklearn.model_selection import train_test_split  # used to split our datasets into training and test dataset\n",
    "from sklearn.linear_model import LogisticRegression   # a binary classifier that is used to determine if the animal is healthy or not\n",
    "from sklearn.naive_bayes import MultinomialNB         # is used to predict the type of disease that is affecting the livestock\n",
    "# the below functions are used to convert all categorical data into numerical data\n",
    "from sklearn.preprocessing import OneHotEncoder\n",
    "from sklearn.pipeline import make_pipeline\n",
    "from sklearn.compose import make_column_transformer\n",
    "\n",
    "import pandas as pd\n",
    "import math"
   ]
  },
  {
   "cell_type": "code",
   "execution_count": 8,
   "metadata": {},
   "outputs": [
    {
     "name": "stdout",
     "output_type": "stream",
     "text": [
      "    Animal  Age  Temperature           Symptom 1           Symptom 2           Symptom 3         Disease\n",
      "0      cow    3        103.1          depression      painless lumps    loss of appetite       pneumonia\n",
      "1  buffalo   13        104.5      painless lumps    loss of appetite          depression     lumpy virus\n",
      "2    sheep    1        100.5          depression      painless lumps    loss of appetite     lumpy virus\n",
      "3      cow   14        100.3    loss of appetite    swelling in limb     crackling sound        blackleg\n",
      "4    sheep    2        103.6      painless lumps    loss of appetite          depression       pneumonia\n",
      "5     goat   10        101.2    loss of appetite    blisters on gums  difficulty walking  foot and mouth\n",
      "6    sheep    6        103.3    loss of appetite          depression      painless lumps     lumpy virus\n",
      "7     goat    6        101.7  difficulty walking  blisters on tongue    loss of appetite  foot and mouth\n",
      "8  buffalo    9        102.5          depression      painless lumps    loss of appetite     lumpy virus\n",
      "9     goat    3        102.7            lameness   blisters on mouth    loss of appetite  foot and mouth\n",
      "\n",
      "    AnimalName                        symptoms1                symptoms2            symptoms3             symptoms4                 symptoms5 Dangerous\n",
      "861  Buffaloes                            Fever  Chronic eye inflamation             Coughing              Lethargy  Neurologic abnormalities       Yes\n",
      "862  Buffaloes                            Fever  Swelling of face or leg             Coughing            Depression                     Pains       Yes\n",
      "863  Buffaloes             Diarrhea with muscus                 Tensemus          Nose Bleeds            Flatulence                     Pains       Yes\n",
      "864  Buffaloes                     Strong cough               Runny nose        Darkened skin              Lethargy         Loss of appettite       Yes\n",
      "865  Buffaloes                            Fever            Inflammed eye             Sneezing            Depression                   Limping       Yes\n",
      "866  Buffaloes                            Fever     Difficulty breathing        Poor Appetite   Eye and Skin change        Unable to exercise       Yes\n",
      "867  Buffaloes                            Fever        Loss of  appetite  Lession on the skin              Lethargy                Joint Pain       Yes\n",
      "868  Buffaloes      Lesions in the nasal cavity          Lesions on nose             Vomiting       Noisy Breathing           Lesions on nose       Yes\n",
      "869  Buffaloes                        Hair loss                 Dandruff             Vomiting  Crusting of the skin            Ulcerated skin       Yes\n",
      "870  Buffaloes  Greenish-yellow nasal discharge     Lack of pigmentation             Vomiting              Lethargy              Pain on face       Yes\n",
      "\n",
      "animal health dataset size (871, 7)\n",
      "animal disease dataset size (43778, 7)\n"
     ]
    }
   ],
   "source": [
    "# first we need to load and make some preprocessing activities on our dataset\n",
    "# this involves converting all categorical data into their corresponding encoded format using the\n",
    "# OneHotEncoder function\n",
    "diseaseDataset = pd.read_csv('../../dataset/animal_disease_dataset.csv')\n",
    "animalHealthConditionDataset = pd.read_csv('../../dataset/data.csv')\n",
    "  \n",
    "print(diseaseDataset.head(10).to_string())  # showing the output of the disease dataset\n",
    "print()\n",
    "print(animalHealthConditionDataset.tail(10).to_string())  # showing the output of the animal health dataset which is used to determine if the livestock is healthy or not\n",
    "print()\n",
    "print(\"animal health dataset size {}\".format(animalHealthConditionDataset.shape))\n",
    "print(\"animal disease dataset size {}\".format(diseaseDataset.shape))"
   ]
  },
  {
   "cell_type": "markdown",
   "metadata": {},
   "source": [
    "Preprocessing our dataset in order to make them both suitable for training our machine learning models"
   ]
  },
  {
   "cell_type": "code",
   "execution_count": 9,
   "metadata": {},
   "outputs": [],
   "source": [
    "def make_clean(dataFrame: pd.DataFrame):\n",
    "    frame = dataFrame\n",
    "    # dropping any rows that  contains any null values\n",
    "    return frame.dropna(axis='index')\n",
    "\n",
    "# cleaning the two dataset using the above function\n",
    "diseaseDataset = make_clean(diseaseDataset)\n",
    "animalHealthConditionDataset = make_clean(animalHealthConditionDataset)\n",
    "\n",
    "# splitting our datasets into training and testing features which is used to train our model\n",
    "diseaseTrain, diseaseTest, diseaseTrainLabel, diseaseTestLabel = train_test_split(\n",
    "    diseaseDataset.loc[:, ['Animal', 'Age', 'Temperature', 'Symptom 1', 'Symptom 2', 'Symptom 3', ]],\n",
    "    diseaseDataset.loc[:, ['Disease']], train_size=.75, random_state=5\n",
    ")\n",
    "\n",
    "# Converting yes or no to zero or one before passing it train test split\n",
    "healthLabel = animalHealthConditionDataset['Dangerous'].replace({\"Yes\": 1, \"No\": 0})\n",
    "healthX = animalHealthConditionDataset.iloc[:, :6]\n",
    "\n",
    "healthTrain, healthTest, healthLabelTrain, healthLabelTest = train_test_split(\n",
    "    healthX, healthLabel, train_size=.75, random_state=5\n",
    ")\n",
    "# print(healthLabel)\n"
   ]
  },
  {
   "cell_type": "markdown",
   "metadata": {},
   "source": [
    "After the dataset has been splitted, the next step is to convert all catergorical data that is within the dataset to numerical data\n",
    "this allows the machine learning model to be able to make predictions and classification without any error"
   ]
  },
  {
   "cell_type": "code",
   "execution_count": 10,
   "metadata": {},
   "outputs": [],
   "source": [
    "animalHealthColumnTransformer = make_column_transformer(\n",
    "    (OneHotEncoder(), ['AnimalName', 'symptoms1', 'symptoms2', 'symptoms3', 'symptoms4', 'symptoms5']),\n",
    "    remainder='passthrough'\n",
    ")\n",
    "animalDiseaseColumnTransformer = make_column_transformer(\n",
    "    (OneHotEncoder(), ['Animal', 'Symptom 1', 'Symptom 2', 'Symptom 3']), remainder=\"passthrough\"\n",
    ")"
   ]
  },
  {
   "cell_type": "markdown",
   "metadata": {},
   "source": [
    "Now that the dataset has been preprocessed, the Preprocessed dataset can now be used to train the machine learning model\n",
    "The machine learning model that is used includes\n",
    "\n",
    "NAIVE BAYES ALGORITHM\n",
    "\n",
    "LINEAR LOGISTICS REGRESSION MODEL"
   ]
  },
  {
   "cell_type": "code",
   "execution_count": 11,
   "metadata": {},
   "outputs": [
    {
     "name": "stderr",
     "output_type": "stream",
     "text": [
      "c:\\Users\\user\\AppData\\Local\\Programs\\Python\\Python310\\lib\\site-packages\\sklearn\\utils\\validation.py:1183: DataConversionWarning: A column-vector y was passed when a 1d array was expected. Please change the shape of y to (n_samples, ), for example using ravel().\n",
      "  y = column_or_1d(y, warn=True)\n"
     ]
    },
    {
     "data": {
      "text/html": [
       "<style>#sk-container-id-2 {color: black;}#sk-container-id-2 pre{padding: 0;}#sk-container-id-2 div.sk-toggleable {background-color: white;}#sk-container-id-2 label.sk-toggleable__label {cursor: pointer;display: block;width: 100%;margin-bottom: 0;padding: 0.3em;box-sizing: border-box;text-align: center;}#sk-container-id-2 label.sk-toggleable__label-arrow:before {content: \"▸\";float: left;margin-right: 0.25em;color: #696969;}#sk-container-id-2 label.sk-toggleable__label-arrow:hover:before {color: black;}#sk-container-id-2 div.sk-estimator:hover label.sk-toggleable__label-arrow:before {color: black;}#sk-container-id-2 div.sk-toggleable__content {max-height: 0;max-width: 0;overflow: hidden;text-align: left;background-color: #f0f8ff;}#sk-container-id-2 div.sk-toggleable__content pre {margin: 0.2em;color: black;border-radius: 0.25em;background-color: #f0f8ff;}#sk-container-id-2 input.sk-toggleable__control:checked~div.sk-toggleable__content {max-height: 200px;max-width: 100%;overflow: auto;}#sk-container-id-2 input.sk-toggleable__control:checked~label.sk-toggleable__label-arrow:before {content: \"▾\";}#sk-container-id-2 div.sk-estimator input.sk-toggleable__control:checked~label.sk-toggleable__label {background-color: #d4ebff;}#sk-container-id-2 div.sk-label input.sk-toggleable__control:checked~label.sk-toggleable__label {background-color: #d4ebff;}#sk-container-id-2 input.sk-hidden--visually {border: 0;clip: rect(1px 1px 1px 1px);clip: rect(1px, 1px, 1px, 1px);height: 1px;margin: -1px;overflow: hidden;padding: 0;position: absolute;width: 1px;}#sk-container-id-2 div.sk-estimator {font-family: monospace;background-color: #f0f8ff;border: 1px dotted black;border-radius: 0.25em;box-sizing: border-box;margin-bottom: 0.5em;}#sk-container-id-2 div.sk-estimator:hover {background-color: #d4ebff;}#sk-container-id-2 div.sk-parallel-item::after {content: \"\";width: 100%;border-bottom: 1px solid gray;flex-grow: 1;}#sk-container-id-2 div.sk-label:hover label.sk-toggleable__label {background-color: #d4ebff;}#sk-container-id-2 div.sk-serial::before {content: \"\";position: absolute;border-left: 1px solid gray;box-sizing: border-box;top: 0;bottom: 0;left: 50%;z-index: 0;}#sk-container-id-2 div.sk-serial {display: flex;flex-direction: column;align-items: center;background-color: white;padding-right: 0.2em;padding-left: 0.2em;position: relative;}#sk-container-id-2 div.sk-item {position: relative;z-index: 1;}#sk-container-id-2 div.sk-parallel {display: flex;align-items: stretch;justify-content: center;background-color: white;position: relative;}#sk-container-id-2 div.sk-item::before, #sk-container-id-2 div.sk-parallel-item::before {content: \"\";position: absolute;border-left: 1px solid gray;box-sizing: border-box;top: 0;bottom: 0;left: 50%;z-index: -1;}#sk-container-id-2 div.sk-parallel-item {display: flex;flex-direction: column;z-index: 1;position: relative;background-color: white;}#sk-container-id-2 div.sk-parallel-item:first-child::after {align-self: flex-end;width: 50%;}#sk-container-id-2 div.sk-parallel-item:last-child::after {align-self: flex-start;width: 50%;}#sk-container-id-2 div.sk-parallel-item:only-child::after {width: 0;}#sk-container-id-2 div.sk-dashed-wrapped {border: 1px dashed gray;margin: 0 0.4em 0.5em 0.4em;box-sizing: border-box;padding-bottom: 0.4em;background-color: white;}#sk-container-id-2 div.sk-label label {font-family: monospace;font-weight: bold;display: inline-block;line-height: 1.2em;}#sk-container-id-2 div.sk-label-container {text-align: center;}#sk-container-id-2 div.sk-container {/* jupyter's `normalize.less` sets `[hidden] { display: none; }` but bootstrap.min.css set `[hidden] { display: none !important; }` so we also need the `!important` here to be able to override the default hidden behavior on the sphinx rendered scikit-learn.org. See: https://github.com/scikit-learn/scikit-learn/issues/21755 */display: inline-block !important;position: relative;}#sk-container-id-2 div.sk-text-repr-fallback {display: none;}</style><div id=\"sk-container-id-2\" class=\"sk-top-container\"><div class=\"sk-text-repr-fallback\"><pre>Pipeline(steps=[(&#x27;columntransformer&#x27;,\n",
       "                 ColumnTransformer(remainder=&#x27;passthrough&#x27;,\n",
       "                                   transformers=[(&#x27;onehotencoder&#x27;,\n",
       "                                                  OneHotEncoder(),\n",
       "                                                  [&#x27;AnimalName&#x27;, &#x27;symptoms1&#x27;,\n",
       "                                                   &#x27;symptoms2&#x27;, &#x27;symptoms3&#x27;,\n",
       "                                                   &#x27;symptoms4&#x27;,\n",
       "                                                   &#x27;symptoms5&#x27;])])),\n",
       "                (&#x27;logisticregression&#x27;, LogisticRegression())])</pre><b>In a Jupyter environment, please rerun this cell to show the HTML representation or trust the notebook. <br />On GitHub, the HTML representation is unable to render, please try loading this page with nbviewer.org.</b></div><div class=\"sk-container\" hidden><div class=\"sk-item sk-dashed-wrapped\"><div class=\"sk-label-container\"><div class=\"sk-label sk-toggleable\"><input class=\"sk-toggleable__control sk-hidden--visually\" id=\"sk-estimator-id-8\" type=\"checkbox\" ><label for=\"sk-estimator-id-8\" class=\"sk-toggleable__label sk-toggleable__label-arrow\">Pipeline</label><div class=\"sk-toggleable__content\"><pre>Pipeline(steps=[(&#x27;columntransformer&#x27;,\n",
       "                 ColumnTransformer(remainder=&#x27;passthrough&#x27;,\n",
       "                                   transformers=[(&#x27;onehotencoder&#x27;,\n",
       "                                                  OneHotEncoder(),\n",
       "                                                  [&#x27;AnimalName&#x27;, &#x27;symptoms1&#x27;,\n",
       "                                                   &#x27;symptoms2&#x27;, &#x27;symptoms3&#x27;,\n",
       "                                                   &#x27;symptoms4&#x27;,\n",
       "                                                   &#x27;symptoms5&#x27;])])),\n",
       "                (&#x27;logisticregression&#x27;, LogisticRegression())])</pre></div></div></div><div class=\"sk-serial\"><div class=\"sk-item sk-dashed-wrapped\"><div class=\"sk-label-container\"><div class=\"sk-label sk-toggleable\"><input class=\"sk-toggleable__control sk-hidden--visually\" id=\"sk-estimator-id-9\" type=\"checkbox\" ><label for=\"sk-estimator-id-9\" class=\"sk-toggleable__label sk-toggleable__label-arrow\">columntransformer: ColumnTransformer</label><div class=\"sk-toggleable__content\"><pre>ColumnTransformer(remainder=&#x27;passthrough&#x27;,\n",
       "                  transformers=[(&#x27;onehotencoder&#x27;, OneHotEncoder(),\n",
       "                                 [&#x27;AnimalName&#x27;, &#x27;symptoms1&#x27;, &#x27;symptoms2&#x27;,\n",
       "                                  &#x27;symptoms3&#x27;, &#x27;symptoms4&#x27;, &#x27;symptoms5&#x27;])])</pre></div></div></div><div class=\"sk-parallel\"><div class=\"sk-parallel-item\"><div class=\"sk-item\"><div class=\"sk-label-container\"><div class=\"sk-label sk-toggleable\"><input class=\"sk-toggleable__control sk-hidden--visually\" id=\"sk-estimator-id-10\" type=\"checkbox\" ><label for=\"sk-estimator-id-10\" class=\"sk-toggleable__label sk-toggleable__label-arrow\">onehotencoder</label><div class=\"sk-toggleable__content\"><pre>[&#x27;AnimalName&#x27;, &#x27;symptoms1&#x27;, &#x27;symptoms2&#x27;, &#x27;symptoms3&#x27;, &#x27;symptoms4&#x27;, &#x27;symptoms5&#x27;]</pre></div></div></div><div class=\"sk-serial\"><div class=\"sk-item\"><div class=\"sk-estimator sk-toggleable\"><input class=\"sk-toggleable__control sk-hidden--visually\" id=\"sk-estimator-id-11\" type=\"checkbox\" ><label for=\"sk-estimator-id-11\" class=\"sk-toggleable__label sk-toggleable__label-arrow\">OneHotEncoder</label><div class=\"sk-toggleable__content\"><pre>OneHotEncoder()</pre></div></div></div></div></div></div><div class=\"sk-parallel-item\"><div class=\"sk-item\"><div class=\"sk-label-container\"><div class=\"sk-label sk-toggleable\"><input class=\"sk-toggleable__control sk-hidden--visually\" id=\"sk-estimator-id-12\" type=\"checkbox\" ><label for=\"sk-estimator-id-12\" class=\"sk-toggleable__label sk-toggleable__label-arrow\">remainder</label><div class=\"sk-toggleable__content\"><pre>[]</pre></div></div></div><div class=\"sk-serial\"><div class=\"sk-item\"><div class=\"sk-estimator sk-toggleable\"><input class=\"sk-toggleable__control sk-hidden--visually\" id=\"sk-estimator-id-13\" type=\"checkbox\" ><label for=\"sk-estimator-id-13\" class=\"sk-toggleable__label sk-toggleable__label-arrow\">passthrough</label><div class=\"sk-toggleable__content\"><pre>passthrough</pre></div></div></div></div></div></div></div></div><div class=\"sk-item\"><div class=\"sk-estimator sk-toggleable\"><input class=\"sk-toggleable__control sk-hidden--visually\" id=\"sk-estimator-id-14\" type=\"checkbox\" ><label for=\"sk-estimator-id-14\" class=\"sk-toggleable__label sk-toggleable__label-arrow\">LogisticRegression</label><div class=\"sk-toggleable__content\"><pre>LogisticRegression()</pre></div></div></div></div></div></div></div>"
      ],
      "text/plain": [
       "Pipeline(steps=[('columntransformer',\n",
       "                 ColumnTransformer(remainder='passthrough',\n",
       "                                   transformers=[('onehotencoder',\n",
       "                                                  OneHotEncoder(),\n",
       "                                                  ['AnimalName', 'symptoms1',\n",
       "                                                   'symptoms2', 'symptoms3',\n",
       "                                                   'symptoms4',\n",
       "                                                   'symptoms5'])])),\n",
       "                ('logisticregression', LogisticRegression())])"
      ]
     },
     "execution_count": 11,
     "metadata": {},
     "output_type": "execute_result"
    }
   ],
   "source": [
    "# selecting the corresponding model that will be used for making classification and the one that will be used for\n",
    "# making prediction of farm animals disease\n",
    "\n",
    "logreg = LogisticRegression(solver=\"lbfgs\")\n",
    "naiveClassifier = MultinomialNB(alpha=0.1)\n",
    "#\n",
    "# # creating a pipeline of steps to be taken from the encoder to passing the data to the corresponding machine\n",
    "# # learning algorithm\n",
    "animalHealthPipeline = make_pipeline(animalHealthColumnTransformer, logreg)\n",
    "animalDiseasePipeline = make_pipeline(animalDiseaseColumnTransformer, naiveClassifier)\n",
    "\n",
    "# fitting the trainig dataset into our machine learning pipeline\n",
    "animalDiseasePipeline.fit(diseaseTrain, diseaseTrainLabel)\n",
    "animalHealthPipeline.fit(healthTrain, healthLabelTrain)\n"
   ]
  },
  {
   "cell_type": "markdown",
   "metadata": {},
   "source": [
    "CHECKING THE MODEL ACCURACY LEVEL USING THE TRAINING DATASET AND THE TEST DATASET\n",
    "CODE EVALUATION"
   ]
  },
  {
   "cell_type": "code",
   "execution_count": 12,
   "metadata": {},
   "outputs": [
    {
     "name": "stdout",
     "output_type": "stream",
     "text": [
      "Training Accuracy for Animal Disease model is 84%\n",
      "Testing Accuracy for Animal Disease model is 83%\n",
      "\n",
      "Training Accuracy for Animal Health Condition model is 99%\n"
     ]
    }
   ],
   "source": [
    "print(\"Training Accuracy for Animal Disease model is {}%\".format(round(animalDiseasePipeline.score(diseaseTrain, diseaseTrainLabel) * 100)))\n",
    "print(\"Testing Accuracy for Animal Disease model is {}%\".format(round(animalDiseasePipeline.score(diseaseTest, diseaseTestLabel) * 100)))\n",
    "\n",
    "print()\n",
    "print(\"Training Accuracy for Animal Health Condition model is {}%\".format(round(animalHealthPipeline.score(healthTrain, healthLabelTrain) * 100)))\n",
    "# print(\"Training Accuracy for Animal Health Condition model is {}%\".format(round(animalHealthPipeline.score(healthTest, healthLabelTest) * 100)))"
   ]
  },
  {
   "cell_type": "markdown",
   "metadata": {},
   "source": [
    "TESTING AND MAKING PREDICTIONS USING THE TRAINED MODEL\n"
   ]
  },
  {
   "cell_type": "code",
   "execution_count": 13,
   "metadata": {},
   "outputs": [],
   "source": [
    "import pickle"
   ]
  }
 ],
 "metadata": {
  "kernelspec": {
   "display_name": "Python 3",
   "language": "python",
   "name": "python3"
  },
  "language_info": {
   "codemirror_mode": {
    "name": "ipython",
    "version": 3
   },
   "file_extension": ".py",
   "mimetype": "text/x-python",
   "name": "python",
   "nbconvert_exporter": "python",
   "pygments_lexer": "ipython3",
   "version": "3.10.5"
  }
 },
 "nbformat": 4,
 "nbformat_minor": 2
}
